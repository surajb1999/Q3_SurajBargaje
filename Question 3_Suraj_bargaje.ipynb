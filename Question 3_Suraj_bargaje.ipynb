{
 "cells": [
  {
   "cell_type": "code",
   "execution_count": 10,
   "metadata": {},
   "outputs": [
    {
     "name": "stdout",
     "output_type": "stream",
     "text": [
      "24\n"
     ]
    }
   ],
   "source": [
    "\n",
    "import math\n",
    "\n",
    "def sumofFactors(n) :\n",
    "    if (n % 2 != 0) :\n",
    "        return 0\n",
    "\n",
    "    res = 1\n",
    "    for i in range(2, (int)(math.sqrt(n)) + 1) :\n",
    "        count = 0\n",
    "        curr_sum = 1\n",
    "        curr_term = 1\n",
    "        while (n % i == 0) :\n",
    "            count= count + 1\n",
    "\n",
    "            n = n // i\n",
    "\n",
    "            if (i == 2 and count == 1) :\n",
    "                curr_sum = 0\n",
    "\n",
    "            curr_term = curr_term * i\n",
    "            curr_sum = curr_sum + curr_term\n",
    "        res = res * curr_sum\n",
    "\n",
    "\n",
    "    if (n >= 2) :\n",
    "        res = res * (1 + n)\n",
    "\n",
    "    return res\n",
    "\n",
    "\n",
    "n = 12\n",
    "print(sumofFactors(n))\n",
    "\n",
    "\n"
   ]
  },
  {
   "cell_type": "code",
   "execution_count": null,
   "metadata": {},
   "outputs": [],
   "source": []
  }
 ],
 "metadata": {
  "kernelspec": {
   "display_name": "Python 3",
   "language": "python",
   "name": "python3"
  },
  "language_info": {
   "codemirror_mode": {
    "name": "ipython",
    "version": 3
   },
   "file_extension": ".py",
   "mimetype": "text/x-python",
   "name": "python",
   "nbconvert_exporter": "python",
   "pygments_lexer": "ipython3",
   "version": "3.7.6"
  }
 },
 "nbformat": 4,
 "nbformat_minor": 4
}
